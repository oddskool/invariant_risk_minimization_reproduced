{
 "cells": [
  {
   "cell_type": "markdown",
   "metadata": {},
   "source": [
    "# Invariant Risk Minimization\n",
    "\n",
    "Exploration of the paper https://arxiv.org/pdf/1907.02893v2.pdf\n",
    "\n",
    "Pytorch code: https://github.com/facebookresearch/InvariantRiskMinimization/\n"
   ]
  },
  {
   "cell_type": "markdown",
   "metadata": {},
   "source": [
    "## 0) Dataset exploration/setup"
   ]
  },
  {
   "cell_type": "code",
   "execution_count": 1,
   "metadata": {},
   "outputs": [
    {
     "name": "stdout",
     "output_type": "stream",
     "text": [
      "Populating the interactive namespace from numpy and matplotlib\n"
     ]
    }
   ],
   "source": [
    "%pylab inline"
   ]
  },
  {
   "cell_type": "code",
   "execution_count": 2,
   "metadata": {},
   "outputs": [
    {
     "name": "stderr",
     "output_type": "stream",
     "text": [
      "Using TensorFlow backend.\n"
     ]
    }
   ],
   "source": [
    "import keras\n",
    "from keras.datasets import mnist\n",
    "from keras.models import Sequential, Model\n",
    "from keras.layers import Dense, Dropout, Flatten, Input, Multiply\n",
    "from keras.layers import Conv2D, MaxPooling2D, Conv3D, MaxPool3D\n",
    "from keras import backend as K\n",
    "import numpy as np"
   ]
  },
  {
   "cell_type": "code",
   "execution_count": 30,
   "metadata": {},
   "outputs": [],
   "source": [
    "import random"
   ]
  },
  {
   "cell_type": "code",
   "execution_count": 3,
   "metadata": {},
   "outputs": [],
   "source": [
    "import tensorflow as tf"
   ]
  },
  {
   "cell_type": "code",
   "execution_count": 4,
   "metadata": {},
   "outputs": [],
   "source": [
    "from sklearn.metrics import accuracy_score, log_loss"
   ]
  },
  {
   "cell_type": "code",
   "execution_count": 5,
   "metadata": {},
   "outputs": [
    {
     "name": "stdout",
     "output_type": "stream",
     "text": [
      "Downloading data from https://s3.amazonaws.com/img-datasets/mnist.npz\n",
      "11493376/11490434 [==============================] - 1s 0us/step\n"
     ]
    }
   ],
   "source": [
    "(x_train, y_train), (x_test, y_test) = mnist.load_data()\n",
    "    \n",
    "# convert to RGB\n",
    "x_train = np.stack((x_train,)*3, axis=-1)\n",
    "x_test = np.stack((x_test,)*3, axis=-1)\n",
    "\n",
    "# normalize\n",
    "x_train = x_train.astype('float32')\n",
    "x_test = x_test.astype('float32')\n",
    "x_train /= 255\n",
    "x_test /= 255\n",
    "\n",
    "# binary label\n",
    "y_train = (y_train < 5).astype(int)\n",
    "y_test = (y_test < 5).astype(int)"
   ]
  },
  {
   "cell_type": "code",
   "execution_count": 6,
   "metadata": {},
   "outputs": [
    {
     "data": {
      "text/plain": [
       "(60000, 28, 28, 3)"
      ]
     },
     "execution_count": 6,
     "metadata": {},
     "output_type": "execute_result"
    },
    {
     "data": {
      "image/png": "[encoded data removed]",
      "text/plain": [
       "<Figure size 432x288 with 1 Axes>"
      ]
     },
     "metadata": {
      "needs_background": "light"
     },
     "output_type": "display_data"
    }
   ],
   "source": [
    "plt.imshow(x_train[0])\n",
    "x_train.shape"
   ]
  },
  {
   "cell_type": "code",
   "execution_count": 7,
   "metadata": {},
   "outputs": [
    {
     "data": {
      "text/plain": [
       "(60000, 28, 28, 3)"
      ]
     },
     "execution_count": 7,
     "metadata": {},
     "output_type": "execute_result"
    },
    {
     "data": {
      "image/png": "[encoded data removed]",
      "text/plain": [
       "<Figure size 432x288 with 1 Axes>"
      ]
     },
     "metadata": {
      "needs_background": "light"
     },
     "output_type": "display_data"
    }
   ],
   "source": [
    "plt.imshow(x_train[5])\n",
    "x_train.shape"
   ]
  },
  {
   "cell_type": "code",
   "execution_count": 8,
   "metadata": {},
   "outputs": [],
   "source": [
    "def get_env(x, y, e, labelflip_proba=.25):\n",
    "    x = x.copy()\n",
    "    y = y.copy()\n",
    "    \n",
    "    y = np.logical_xor(\n",
    "        y,\n",
    "        (np.random.random(size=len(y)) < labelflip_proba).astype(int)\n",
    "    ).astype(int)\n",
    "    \n",
    "    color = np.logical_xor(\n",
    "        y,\n",
    "        (np.random.random(size=len(y)) < e).astype(int)\n",
    "    )\n",
    "    \n",
    "    x[color, :, :, 2] = 0\n",
    "    x[color, :, :, 1] = 0\n",
    "    return x, y"
   ]
  },
  {
   "cell_type": "code",
   "execution_count": 9,
   "metadata": {},
   "outputs": [],
   "source": [
    "x, y = get_env(x_train, y_train, .5)"
   ]
  },
  {
   "cell_type": "code",
   "execution_count": 10,
   "metadata": {},
   "outputs": [
    {
     "data": {
      "text/plain": [
       "<matplotlib.image.AxesImage at 0x7f36951f8f50>"
      ]
     },
     "execution_count": 10,
     "metadata": {},
     "output_type": "execute_result"
    },
    {
     "data": {
      "image/png": "[encoded data removed]",
      "text/plain": [
       "<Figure size 432x288 with 1 Axes>"
      ]
     },
     "metadata": {
      "needs_background": "light"
     },
     "output_type": "display_data"
    }
   ],
   "source": [
    "plt.imshow(x[0])"
   ]
  },
  {
   "cell_type": "code",
   "execution_count": 11,
   "metadata": {},
   "outputs": [
    {
     "data": {
      "text/plain": [
       "<matplotlib.image.AxesImage at 0x7f3695163a50>"
      ]
     },
     "execution_count": 11,
     "metadata": {},
     "output_type": "execute_result"
    },
    {
     "data": {
      "image/png": "[encoded data removed]",
      "text/plain": [
       "<Figure size 432x288 with 1 Axes>"
      ]
     },
     "metadata": {
      "needs_background": "light"
     },
     "output_type": "display_data"
    }
   ],
   "source": [
    "plt.imshow(x[5])"
   ]
  },
  {
   "cell_type": "code",
   "execution_count": 12,
   "metadata": {},
   "outputs": [],
   "source": [
    "def get_model():\n",
    "    model = Sequential()\n",
    "    model.add(Conv2D(32, kernel_size=(3, 3),\n",
    "                     activation='relu',\n",
    "                     input_shape=(28, 28, 3)))\n",
    "    model.add(Dropout(0.25))\n",
    "    model.add(Conv2D(64, (3, 3), activation='relu'))\n",
    "    model.add(MaxPooling2D(pool_size=(2, 2)))\n",
    "    model.add(Dropout(0.25))\n",
    "    model.add(Flatten())\n",
    "    model.add(Dense(32, activation='relu'))\n",
    "    model.add(Dropout(0.5))\n",
    "    model.add(Dense(1, activation='sigmoid'))\n",
    "\n",
    "    model.compile(loss=keras.losses.binary_crossentropy,\n",
    "                  optimizer=keras.optimizers.Adadelta(),\n",
    "                  metrics=['accuracy', 'crossentropy'])\n",
    "    return model"
   ]
  },
  {
   "cell_type": "code",
   "execution_count": 13,
   "metadata": {},
   "outputs": [
    {
     "name": "stdout",
     "output_type": "stream",
     "text": [
      "Model: \"sequential_1\"\n",
      "_________________________________________________________________\n",
      "Layer (type)                 Output Shape              Param #   \n",
      "=================================================================\n",
      "conv2d_1 (Conv2D)            (None, 26, 26, 32)        896       \n",
      "_________________________________________________________________\n",
      "dropout_1 (Dropout)          (None, 26, 26, 32)        0         \n",
      "_________________________________________________________________\n",
      "conv2d_2 (Conv2D)            (None, 24, 24, 64)        18496     \n",
      "_________________________________________________________________\n",
      "max_pooling2d_1 (MaxPooling2 (None, 12, 12, 64)        0         \n",
      "_________________________________________________________________\n",
      "dropout_2 (Dropout)          (None, 12, 12, 64)        0         \n",
      "_________________________________________________________________\n",
      "flatten_1 (Flatten)          (None, 9216)              0         \n",
      "_________________________________________________________________\n",
      "dense_1 (Dense)              (None, 32)                294944    \n",
      "_________________________________________________________________\n",
      "dropout_3 (Dropout)          (None, 32)                0         \n",
      "_________________________________________________________________\n",
      "dense_2 (Dense)              (None, 1)                 33        \n",
      "=================================================================\n",
      "Total params: 314,369\n",
      "Trainable params: 314,369\n",
      "Non-trainable params: 0\n",
      "_________________________________________________________________\n"
     ]
    }
   ],
   "source": [
    "get_model().summary()"
   ]
  },
  {
   "cell_type": "markdown",
   "metadata": {},
   "source": [
    "### 0.2) check model is good for the initial task (greyscale + no label flip)"
   ]
  },
  {
   "cell_type": "code",
   "execution_count": 14,
   "metadata": {},
   "outputs": [
    {
     "name": "stdout",
     "output_type": "stream",
     "text": [
      "Train on 60000 samples, validate on 10000 samples\n",
      "Epoch 1/1\n",
      "60000/60000 [==============================] - 13s 209us/step - loss: 0.0098 - accuracy: 0.9959 - crossentropy: 0.0098 - val_loss: 9.9567e-07 - val_accuracy: 1.0000 - val_crossentropy: 9.9567e-07\n"
     ]
    },
    {
     "data": {
      "text/plain": [
       "<keras.callbacks.callbacks.History at 0x7f36945c39d0>"
      ]
     },
     "execution_count": 14,
     "metadata": {},
     "output_type": "execute_result"
    }
   ],
   "source": [
    "get_model().fit(*get_env(x_train, y_train, 0),\n",
    "                batch_size=128,\n",
    "                epochs=1,\n",
    "                verbose=1,\n",
    "                validation_data=get_env(x_test, y_test, 0))"
   ]
  },
  {
   "cell_type": "markdown",
   "metadata": {},
   "source": [
    "### 0.3) our 3 envs"
   ]
  },
  {
   "cell_type": "code",
   "execution_count": 15,
   "metadata": {},
   "outputs": [],
   "source": [
    "e1 = get_env(x_train[:10000], y_train[:10000], .1)\n",
    "e2 = get_env(x_train[10000:20000], y_train[10000:20000], .2)\n",
    "e3 = get_env(x_train[20000:30000], y_train[20000:30000], .9)"
   ]
  },
  {
   "cell_type": "markdown",
   "metadata": {},
   "source": [
    "## 1) Claim: ERM in separate envs are fooled"
   ]
  },
  {
   "cell_type": "code",
   "execution_count": 16,
   "metadata": {},
   "outputs": [
    {
     "name": "stdout",
     "output_type": "stream",
     "text": [
      "Train on 10000 samples, validate on 10000 samples\n",
      "Epoch 1/5\n",
      "10000/10000 [==============================] - 3s 256us/step - loss: 0.3809 - accuracy: 0.8827 - crossentropy: 0.3809 - val_loss: 1.9649 - val_accuracy: 0.0957 - val_crossentropy: 1.9649\n",
      "Epoch 2/5\n",
      "10000/10000 [==============================] - 2s 240us/step - loss: 0.3392 - accuracy: 0.8996 - crossentropy: 0.3392 - val_loss: 1.7764 - val_accuracy: 0.0957 - val_crossentropy: 1.7764\n",
      "Epoch 3/5\n",
      "10000/10000 [==============================] - 2s 229us/step - loss: 0.3300 - accuracy: 0.8998 - crossentropy: 0.3300 - val_loss: 1.7693 - val_accuracy: 0.0961 - val_crossentropy: 1.7693\n",
      "Epoch 4/5\n",
      "10000/10000 [==============================] - 2s 231us/step - loss: 0.3191 - accuracy: 0.8999 - crossentropy: 0.3191 - val_loss: 1.6670 - val_accuracy: 0.1075 - val_crossentropy: 1.6670\n",
      "Epoch 5/5\n",
      "10000/10000 [==============================] - 2s 232us/step - loss: 0.3176 - accuracy: 0.8998 - crossentropy: 0.3176 - val_loss: 1.5179 - val_accuracy: 0.0957 - val_crossentropy: 1.5179\n"
     ]
    },
    {
     "data": {
      "text/plain": [
       "<keras.callbacks.callbacks.History at 0x7f36446d0850>"
      ]
     },
     "execution_count": 16,
     "metadata": {},
     "output_type": "execute_result"
    }
   ],
   "source": [
    "get_model().fit(*e1,\n",
    "                batch_size=128,\n",
    "                epochs=5,\n",
    "                verbose=1,\n",
    "                validation_data=e3)"
   ]
  },
  {
   "cell_type": "code",
   "execution_count": 17,
   "metadata": {},
   "outputs": [
    {
     "name": "stdout",
     "output_type": "stream",
     "text": [
      "Train on 10000 samples, validate on 10000 samples\n",
      "Epoch 1/5\n",
      "10000/10000 [==============================] - 3s 254us/step - loss: 0.5339 - accuracy: 0.7781 - crossentropy: 0.5339 - val_loss: 1.2771 - val_accuracy: 0.1232 - val_crossentropy: 1.2771\n",
      "Epoch 2/5\n",
      "10000/10000 [==============================] - 2s 230us/step - loss: 0.4979 - accuracy: 0.7919 - crossentropy: 0.4979 - val_loss: 1.3912 - val_accuracy: 0.1009 - val_crossentropy: 1.3912\n",
      "Epoch 3/5\n",
      "10000/10000 [==============================] - 2s 231us/step - loss: 0.4774 - accuracy: 0.7925 - crossentropy: 0.4774 - val_loss: 1.0916 - val_accuracy: 0.3035 - val_crossentropy: 1.0916\n",
      "Epoch 4/5\n",
      "10000/10000 [==============================] - 2s 229us/step - loss: 0.4657 - accuracy: 0.7917 - crossentropy: 0.4657 - val_loss: 1.5232 - val_accuracy: 0.1373 - val_crossentropy: 1.5232\n",
      "Epoch 5/5\n",
      "10000/10000 [==============================] - 2s 238us/step - loss: 0.4640 - accuracy: 0.7950 - crossentropy: 0.4640 - val_loss: 1.3337 - val_accuracy: 0.1258 - val_crossentropy: 1.3337\n"
     ]
    },
    {
     "data": {
      "text/plain": [
       "<keras.callbacks.callbacks.History at 0x7f369574efd0>"
      ]
     },
     "execution_count": 17,
     "metadata": {},
     "output_type": "execute_result"
    }
   ],
   "source": [
    "get_model().fit(*e2,\n",
    "                batch_size=128,\n",
    "                epochs=5,\n",
    "                verbose=1,\n",
    "                validation_data=e3)"
   ]
  },
  {
   "cell_type": "markdown",
   "metadata": {},
   "source": [
    "## 2) Claim: ERM on merged envs is fooled too"
   ]
  },
  {
   "cell_type": "code",
   "execution_count": 18,
   "metadata": {},
   "outputs": [],
   "source": [
    "e12 = (np.vstack([e1[0], e2[0]]), np.hstack([e1[1], e2[1]]))"
   ]
  },
  {
   "cell_type": "code",
   "execution_count": 19,
   "metadata": {},
   "outputs": [
    {
     "name": "stdout",
     "output_type": "stream",
     "text": [
      "Train on 20000 samples, validate on 10000 samples\n",
      "Epoch 1/5\n",
      "20000/20000 [==============================] - 5s 225us/step - loss: 0.4547 - accuracy: 0.8372 - crossentropy: 0.4547 - val_loss: 1.8169 - val_accuracy: 0.0957 - val_crossentropy: 1.8169\n",
      "Epoch 2/5\n",
      "20000/20000 [==============================] - 4s 210us/step - loss: 0.4150 - accuracy: 0.8468 - crossentropy: 0.4150 - val_loss: 1.1267 - val_accuracy: 0.0962 - val_crossentropy: 1.1267\n",
      "Epoch 3/5\n",
      "20000/20000 [==============================] - 4s 207us/step - loss: 0.4030 - accuracy: 0.8469 - crossentropy: 0.4030 - val_loss: 1.4850 - val_accuracy: 0.1054 - val_crossentropy: 1.4850\n",
      "Epoch 4/5\n",
      "20000/20000 [==============================] - 4s 211us/step - loss: 0.3966 - accuracy: 0.8462 - crossentropy: 0.3966 - val_loss: 1.4074 - val_accuracy: 0.1528 - val_crossentropy: 1.4074\n",
      "Epoch 5/5\n",
      "20000/20000 [==============================] - 4s 207us/step - loss: 0.3906 - accuracy: 0.8469 - crossentropy: 0.3906 - val_loss: 1.4231 - val_accuracy: 0.0971 - val_crossentropy: 1.4231\n"
     ]
    },
    {
     "data": {
      "text/plain": [
       "<keras.callbacks.callbacks.History at 0x7f36442cd2d0>"
      ]
     },
     "execution_count": 19,
     "metadata": {},
     "output_type": "execute_result"
    }
   ],
   "source": [
    "get_model().fit(*e12,\n",
    "                batch_size=128,\n",
    "                epochs=5,\n",
    "                verbose=1,\n",
    "                validation_data=e3)"
   ]
  },
  {
   "cell_type": "markdown",
   "metadata": {},
   "source": [
    "## 3) Claim: Robust ERM will be fooled too\n",
    "\n",
    "robust objective: $f = argmin_f \\{ max_e R^e(f) - var(Y^e) \\}$"
   ]
  },
  {
   "cell_type": "code",
   "execution_count": 20,
   "metadata": {},
   "outputs": [
    {
     "name": "stdout",
     "output_type": "stream",
     "text": [
      "0.3263 0.24992603999999996 0.07637396000000002\n",
      "0.457 0.24998479000000007 0.20701520999999995\n"
     ]
    }
   ],
   "source": [
    "e1_loss = .3263\n",
    "e2_loss = .4570\n",
    "e1_var = e1[1].var()\n",
    "e2_var = e2[1].var()\n",
    "print(e1_loss, e1_var, e1_loss - e1_var)\n",
    "print(e2_loss, e2_var, e2_loss - e2_var)"
   ]
  },
  {
   "cell_type": "markdown",
   "metadata": {},
   "source": [
    "### 3.1) jittering implem of robust objective"
   ]
  },
  {
   "cell_type": "code",
   "execution_count": 21,
   "metadata": {},
   "outputs": [
    {
     "data": {
      "text/plain": [
       "<matplotlib.image.AxesImage at 0x7f363c79c210>"
      ]
     },
     "execution_count": 21,
     "metadata": {},
     "output_type": "execute_result"
    },
    {
     "data": {
      "image/png": "[encoded data removed]",
      "text/plain": [
       "<Figure size 432x288 with 1 Axes>"
      ]
     },
     "metadata": {
      "needs_background": "light"
     },
     "output_type": "display_data"
    }
   ],
   "source": [
    "plt.imshow(x_train[5])"
   ]
  },
  {
   "cell_type": "code",
   "execution_count": 22,
   "metadata": {},
   "outputs": [],
   "source": [
    "def jitter_color(x, scale=.25):\n",
    "    x_jit = x.copy()\n",
    "    for channel in (2,): #range(3):\n",
    "        mask = x_jit[:,:,channel] > 0\n",
    "        x_jit[:,:,channel] += mask * (np.random.normal(scale=scale, size=(28,28)))**2\n",
    "        if x_jit[:,:,channel].max() > 1.:\n",
    "            x_jit[:,:,channel] /= x_jit[:,:,channel].max()\n",
    "    return x_jit"
   ]
  },
  {
   "cell_type": "code",
   "execution_count": 23,
   "metadata": {},
   "outputs": [
    {
     "data": {
      "text/plain": [
       "<matplotlib.image.AxesImage at 0x7f363c777f10>"
      ]
     },
     "execution_count": 23,
     "metadata": {},
     "output_type": "execute_result"
    },
    {
     "data": {
      "image/png": "[encoded data removed]",
      "text/plain": [
       "<Figure size 432x288 with 1 Axes>"
      ]
     },
     "metadata": {
      "needs_background": "light"
     },
     "output_type": "display_data"
    }
   ],
   "source": [
    "x_jit = jitter_color(x_train[5])\n",
    "plt.imshow(x_jit)"
   ]
  },
  {
   "cell_type": "code",
   "execution_count": 24,
   "metadata": {},
   "outputs": [
    {
     "name": "stdout",
     "output_type": "stream",
     "text": [
      "train_acc_jit 0.84785 train_acc 0.84755 ood_acc 0.101\n",
      "train_acc_jit 0.8483 train_acc 0.84485 ood_acc 0.1141\n",
      "train_acc_jit 0.84855 train_acc 0.84215 ood_acc 0.1239\n",
      "train_acc_jit 0.84075 train_acc 0.84785 ood_acc 0.0992\n",
      "train_acc_jit 0.8331 train_acc 0.8463 ood_acc 0.1142\n",
      "train_acc_jit 0.84835 train_acc 0.84845 ood_acc 0.0957\n",
      "train_acc_jit 0.8482 train_acc 0.84825 ood_acc 0.0968\n",
      "train_acc_jit 0.8484 train_acc 0.8484 ood_acc 0.0972\n",
      "train_acc_jit 0.84815 train_acc 0.8485 ood_acc 0.0957\n",
      "train_acc_jit 0.84835 train_acc 0.847 ood_acc 0.1031\n"
     ]
    }
   ],
   "source": [
    "for j in range(10):\n",
    "    e12_jit = np.array([jitter_color(xx, scale=.5) for xx in e12[0]])\n",
    "    m = get_model()\n",
    "    m.fit(e12_jit, e12[1],\n",
    "          batch_size=128,\n",
    "          epochs=3,\n",
    "          verbose=0)\n",
    "    y_pred_train_jit = (m.predict(e12_jit)[:,0] > .5).astype(int)\n",
    "    y_pred_train = (m.predict(e12[0])[:,0] > .5).astype(int)\n",
    "    y_pred_ood = (m.predict(e3[0])[:,0] > .5).astype(int)\n",
    "    print(\"train_acc_jit\", accuracy_score(e12[1], y_pred_train_jit), \n",
    "          \"train_acc\", accuracy_score(e12[1], y_pred_train), \n",
    "          \"ood_acc\", accuracy_score(e3[1], y_pred_ood))"
   ]
  },
  {
   "cell_type": "markdown",
   "metadata": {},
   "source": [
    "## Domain Adaptation: merged ERM with constraint on distrib_dist({phi(X^e)}_e=1..n)"
   ]
  },
  {
   "cell_type": "markdown",
   "metadata": {},
   "source": [
    "### Adverserial Domain Adaptation\n",
    "http://openaccess.thecvf.com/content_cvpr_2017/papers/Tzeng_Adversarial_Discriminative_Domain_CVPR_2017_paper.pdf"
   ]
  },
  {
   "cell_type": "code",
   "execution_count": 205,
   "metadata": {},
   "outputs": [],
   "source": [
    "class MixedEnvDataGenerator(keras.utils.Sequence):\n",
    "    \n",
    "    def __init__(self, adv_weight=.05, e1_weight=1.0, e2_weight=1.0, batch_size=128, shuffle=True):\n",
    "        \n",
    "        self.__load_initial_data()\n",
    "        self.__create_envs()\n",
    "        self.__create_validation_envs()\n",
    "\n",
    "        self.batch_size = batch_size\n",
    "        self.halfbatch_size = int(np.floor(batch_size/2))\n",
    "        self.e1_weight = e1_weight\n",
    "        self.e2_weight = e2_weight\n",
    "        self.adv_weight = adv_weight\n",
    "        self.shuffle = shuffle\n",
    "        self.indices = np.arange(len(self.e1[1]))\n",
    "        print(len(self), 'batches/epoch')\n",
    "        \n",
    "    def __len__(self):\n",
    "        'Denotes the number of batches per epoch'\n",
    "        return int(np.floor(len(self.e1[1]) / self.halfbatch_size))\n",
    "    \n",
    "    def __getitem__(self, index):\n",
    "        'Generate one batch of data'\n",
    "        \n",
    "        halfbatch_indices = self.indices[index*self.halfbatch_size:(index+1)*self.halfbatch_size]\n",
    "        \n",
    "        e1_x_batch = self.e1[0][halfbatch_indices,:,:,:]\n",
    "        e2_x_batch = self.e2[0][halfbatch_indices,:,:,:]\n",
    "        e1_y_batch = self.e1[1][halfbatch_indices]\n",
    "        e2_y_batch = self.e2[1][halfbatch_indices]\n",
    "        \n",
    "        mixed_x = np.vstack([\n",
    "            e1_x_batch,\n",
    "            e2_x_batch,\n",
    "        ])\n",
    "        \n",
    "        e1_y = np.hstack([e1_y_batch, np.zeros(self.halfbatch_size)])\n",
    "        e1_w = self.e1_weight * np.hstack([np.ones(self.halfbatch_size), np.zeros(self.halfbatch_size)])\n",
    "        \n",
    "        e2_y = np.hstack([np.zeros(self.halfbatch_size), e2_y_batch])\n",
    "        e2_w = self.e2_weight * np.hstack([np.zeros(self.halfbatch_size), np.ones(self.halfbatch_size)])\n",
    "        \n",
    "        adv_y = np.hstack([np.ones(self.halfbatch_size), np.zeros(self.halfbatch_size)])\n",
    "        adv_w = self.adv_weight * np.ones(len(adv_y))\n",
    "        \n",
    "        return [\n",
    "            mixed_x,\n",
    "            [e1_y, e2_y, adv_y],\n",
    "            [e1_w, e2_w, adv_w]\n",
    "        ]\n",
    "    \n",
    "    def on_epoch_end(self):\n",
    "        'Updates indexes after each epoch'\n",
    "        self.indexes = np.arange(len(self.e1[1]))\n",
    "        if self.shuffle:\n",
    "            np.random.shuffle(self.indexes)\n",
    "    \n",
    "    def __load_initial_data(self):\n",
    "        (x_train, y_train), (x_test, y_test) = mnist.load_data()\n",
    "\n",
    "        # convert to RGB\n",
    "        x_train = np.stack((x_train,)*3, axis=-1)\n",
    "        x_test = np.stack((x_test,)*3, axis=-1)\n",
    "\n",
    "        # normalize\n",
    "        x_train = x_train.astype('float32')\n",
    "        x_test = x_test.astype('float32')\n",
    "        x_train /= 255\n",
    "        x_test /= 255\n",
    "\n",
    "        # binary label\n",
    "        y_train = (y_train < 5).astype(int)\n",
    "        y_test = (y_test < 5).astype(int)\n",
    "        \n",
    "        self.original_data = {\n",
    "            'x_train':x_train,\n",
    "            'x_test':x_test,\n",
    "            'y_train':y_train,\n",
    "            'y_test':y_test\n",
    "        }\n",
    "        \n",
    "    def __create_envs(self):\n",
    "        self.e1 = self.__create_env(self.original_data['x_train'][:10000], \n",
    "                                    self.original_data['y_train'][:10000], .1)\n",
    "        self.e2 = self.__create_env(self.original_data['x_train'][10000:20000], \n",
    "                                    self.original_data['y_train'][10000:20000], .2)\n",
    "        self.e3 = self.__create_env(self.original_data['x_train'][20000:30000], \n",
    "                                    self.original_data['y_train'][20000:30000], .9)\n",
    "        \n",
    "    def __create_validation_envs(self):\n",
    "        self.e11 = self.__create_env(self.original_data['x_train'][30000:40000], \n",
    "                                     self.original_data['y_train'][30000:40000], .1)\n",
    "        self.e22 = self.__create_env(self.original_data['x_train'][40000:50000], \n",
    "                                     self.original_data['y_train'][40000:50000], .2)\n",
    "        self.e33 = self.__create_env(self.original_data['x_train'][50000:60000], \n",
    "                                     self.original_data['y_train'][50000:60000], .9)\n",
    "        half_len = int(len(self.e11[1])/2)\n",
    "        self.eaa = [\n",
    "            np.vstack([self.e11[0][:half_len], self.e22[0][:half_len]]),\n",
    "            np.hstack([np.ones(half_len), np.zeros(half_len)])\n",
    "        ]\n",
    "    \n",
    "    def __create_env(self, x, y, e, labelflip_proba=.25):\n",
    "        x = x.copy()\n",
    "        y = y.copy()\n",
    "\n",
    "        y = np.logical_xor(\n",
    "            y,\n",
    "            (np.random.random(size=len(y)) < labelflip_proba).astype(int)\n",
    "        ).astype(int)\n",
    "\n",
    "        color = np.logical_xor(\n",
    "            y,\n",
    "            (np.random.random(size=len(y)) < e).astype(int)\n",
    "        )\n",
    "\n",
    "        x[color, :, :, 2] = 0\n",
    "        x[color, :, :, 1] = 0\n",
    "        return x, y"
   ]
  },
  {
   "cell_type": "code",
   "execution_count": 189,
   "metadata": {},
   "outputs": [],
   "source": [
    "def get_ada_mixed_model():\n",
    "    \n",
    "    input_images = Input(shape=(28, 28, 3))\n",
    "    \n",
    "    cnn = Conv2D(32, kernel_size=(3, 3),\n",
    "                 activation='relu')(input_images)\n",
    "    cnn = Conv2D(64, (3, 3), activation='relu')(cnn)\n",
    "    cnn = MaxPooling2D(pool_size=(2, 2))(cnn)\n",
    "    cnn = Dropout(0.25)(cnn)\n",
    "    cnn = Flatten()(cnn)\n",
    "    \n",
    "    env1 = Dense(32, activation='relu')(cnn)\n",
    "    env1 = Dropout(0.5)(env1)\n",
    "    env1 = Dense(1, activation='sigmoid', name='env1')(env1)\n",
    "    \n",
    "    env2 = Dense(32, activation='relu')(cnn)\n",
    "    env2 = Dropout(0.5)(env2)\n",
    "    env2 = Dense(1, activation='sigmoid', name='env2')(env2)\n",
    "        \n",
    "    adv = Dense(32, activation='relu')(cnn)\n",
    "    adv = Dropout(0.5)(adv)\n",
    "    adv = Dense(1, activation='sigmoid', name='adv')(adv)\n",
    "    \n",
    "    model = Model(\n",
    "        inputs=[input_images],\n",
    "        outputs=[env1, env2, adv]\n",
    "    )\n",
    "    \n",
    "    def adv_loss(y_true, y_pred):\n",
    "        return - keras.losses.binary_crossentropy(y_true, y_pred)\n",
    "    \n",
    "    model.compile(\n",
    "        loss=[\n",
    "            keras.losses.binary_crossentropy,\n",
    "            keras.losses.binary_crossentropy,\n",
    "            adv_loss\n",
    "        ],\n",
    "        optimizer=keras.optimizers.Adadelta(),\n",
    "        metrics=['accuracy']\n",
    "    )\n",
    "    return model"
   ]
  },
  {
   "cell_type": "code",
   "execution_count": 211,
   "metadata": {},
   "outputs": [],
   "source": [
    "from collections import defaultdict"
   ]
  },
  {
   "cell_type": "code",
   "execution_count": null,
   "metadata": {},
   "outputs": [
    {
     "name": "stdout",
     "output_type": "stream",
     "text": [
      "156 batches/epoch\n",
      "  0 |e1->e11 acc: 0.901 | e2->e22 acc: 0.801 | e_a->eaa acc: 0.501 | e1->e3 acc: 0.101 e2->e3 acc: 0.141\n",
      "  1 |e1->e11 acc: 0.900 | e2->e22 acc: 0.798 | e_a->eaa acc: 0.501 | e1->e3 acc: 0.104 e2->e3 acc: 0.155\n",
      "  2 |e1->e11 acc: 0.900 | e2->e22 acc: 0.788 | e_a->eaa acc: 0.500 | e1->e3 acc: 0.108 e2->e3 acc: 0.257\n",
      "  3 |e1->e11 acc: 0.897 | e2->e22 acc: 0.792 | e_a->eaa acc: 0.500 | e1->e3 acc: 0.119 e2->e3 acc: 0.266\n",
      "  4 |e1->e11 acc: 0.894 | e2->e22 acc: 0.794 | e_a->eaa acc: 0.500 | e1->e3 acc: 0.123 e2->e3 acc: 0.257\n",
      "  5 |e1->e11 acc: 0.890 | e2->e22 acc: 0.789 | e_a->eaa acc: 0.500 | e1->e3 acc: 0.145 e2->e3 acc: 0.276\n",
      "  6 |e1->e11 acc: 0.888 | e2->e22 acc: 0.786 | e_a->eaa acc: 0.500 | e1->e3 acc: 0.162 e2->e3 acc: 0.307\n",
      "  7 |e1->e11 acc: 0.502 | e2->e22 acc: 0.512 | e_a->eaa acc: 0.500 | e1->e3 acc: 0.508 e2->e3 acc: 0.508\n",
      "  8 |e1->e11 acc: 0.501 | e2->e22 acc: 0.512 | e_a->eaa acc: 0.500 | e1->e3 acc: 0.508 e2->e3 acc: 0.508\n",
      "  9 |e1->e11 acc: 0.501 | e2->e22 acc: 0.512 | e_a->eaa acc: 0.500 | e1->e3 acc: 0.508 e2->e3 acc: 0.508\n",
      " 10 |e1->e11 acc: 0.501 | e2->e22 acc: 0.512 | e_a->eaa acc: 0.500 | e1->e3 acc: 0.508 e2->e3 acc: 0.508\n",
      " 11 |e1->e11 acc: 0.501 | e2->e22 acc: 0.512 | e_a->eaa acc: 0.500 | e1->e3 acc: 0.508 e2->e3 acc: 0.508\n",
      " 12 |e1->e11 acc: 0.501 | e2->e22 acc: 0.512 | e_a->eaa acc: 0.500 | e1->e3 acc: 0.508 e2->e3 acc: 0.508\n",
      " 13 |e1->e11 acc: 0.501 | e2->e22 acc: 0.512 | e_a->eaa acc: 0.500 | e1->e3 acc: 0.508 e2->e3 acc: 0.508\n",
      " 14 |e1->e11 acc: 0.501 | e2->e22 acc: 0.512 | e_a->eaa acc: 0.500 | e1->e3 acc: 0.508 e2->e3 acc: 0.508\n",
      " 15 |e1->e11 acc: 0.501 | e2->e22 acc: 0.512 | e_a->eaa acc: 0.500 | e1->e3 acc: 0.508 e2->e3 acc: 0.508\n",
      " 16 |e1->e11 acc: 0.501 | e2->e22 acc: 0.512 | e_a->eaa acc: 0.500 | e1->e3 acc: 0.508 e2->e3 acc: 0.508\n",
      " 17 |e1->e11 acc: 0.501 | e2->e22 acc: 0.512 | e_a->eaa acc: 0.500 | e1->e3 acc: 0.508 e2->e3 acc: 0.508\n",
      " 18 |e1->e11 acc: 0.501 | e2->e22 acc: 0.512 | e_a->eaa acc: 0.500 | e1->e3 acc: 0.508 e2->e3 acc: 0.508\n",
      " 19 |e1->e11 acc: 0.501 | e2->e22 acc: 0.512 | e_a->eaa acc: 0.500 | e1->e3 acc: 0.508 e2->e3 acc: 0.508\n",
      " 20 |e1->e11 acc: 0.501 | e2->e22 acc: 0.512 | e_a->eaa acc: 0.500 | e1->e3 acc: 0.508 e2->e3 acc: 0.508\n",
      " 21 |e1->e11 acc: 0.501 | e2->e22 acc: 0.512 | e_a->eaa acc: 0.500 | e1->e3 acc: 0.508 e2->e3 acc: 0.508\n",
      " 22 |e1->e11 acc: 0.501 | e2->e22 acc: 0.512 | e_a->eaa acc: 0.500 | e1->e3 acc: 0.508 e2->e3 acc: 0.508\n",
      " 23 |e1->e11 acc: 0.501 | e2->e22 acc: 0.512 | e_a->eaa acc: 0.500 | e1->e3 acc: 0.508 e2->e3 acc: 0.508\n",
      " 24 |e1->e11 acc: 0.501 | e2->e22 acc: 0.512 | e_a->eaa acc: 0.500 | e1->e3 acc: 0.508 e2->e3 acc: 0.508\n",
      " 25 |e1->e11 acc: 0.501 | e2->e22 acc: 0.512 | e_a->eaa acc: 0.500 | e1->e3 acc: 0.508 e2->e3 acc: 0.508\n",
      " 26 |e1->e11 acc: 0.501 | e2->e22 acc: 0.512 | e_a->eaa acc: 0.500 | e1->e3 acc: 0.508 e2->e3 acc: 0.508\n",
      " 27 |e1->e11 acc: 0.501 | e2->e22 acc: 0.512 | e_a->eaa acc: 0.500 | e1->e3 acc: 0.508 e2->e3 acc: 0.508\n",
      " 28 |e1->e11 acc: 0.501 | e2->e22 acc: 0.512 | e_a->eaa acc: 0.500 | e1->e3 acc: 0.508 e2->e3 acc: 0.508\n",
      " 29 |e1->e11 acc: 0.501 | e2->e22 acc: 0.512 | e_a->eaa acc: 0.500 | e1->e3 acc: 0.508 e2->e3 acc: 0.508\n",
      " 30 |e1->e11 acc: 0.501 | e2->e22 acc: 0.512 | e_a->eaa acc: 0.500 | e1->e3 acc: 0.508 e2->e3 acc: 0.508\n",
      " 31 |e1->e11 acc: 0.501 | e2->e22 acc: 0.512 | e_a->eaa acc: 0.500 | e1->e3 acc: 0.508 e2->e3 acc: 0.508\n",
      " 32 |e1->e11 acc: 0.501 | e2->e22 acc: 0.512 | e_a->eaa acc: 0.500 | e1->e3 acc: 0.508 e2->e3 acc: 0.508\n",
      " 33 |e1->e11 acc: 0.501 | e2->e22 acc: 0.512 | e_a->eaa acc: 0.500 | e1->e3 acc: 0.508 e2->e3 acc: 0.508\n",
      " 34 |e1->e11 acc: 0.501 | e2->e22 acc: 0.512 | e_a->eaa acc: 0.500 | e1->e3 acc: 0.508 e2->e3 acc: 0.508\n",
      " 35 |e1->e11 acc: 0.501 | e2->e22 acc: 0.512 | e_a->eaa acc: 0.500 | e1->e3 acc: 0.508 e2->e3 acc: 0.508\n",
      " 36 |e1->e11 acc: 0.501 | e2->e22 acc: 0.512 | e_a->eaa acc: 0.500 | e1->e3 acc: 0.508 e2->e3 acc: 0.508\n",
      " 37 |e1->e11 acc: 0.501 | e2->e22 acc: 0.512 | e_a->eaa acc: 0.500 | e1->e3 acc: 0.508 e2->e3 acc: 0.508\n"
     ]
    }
   ],
   "source": [
    "m = get_ada_mixed_model()\n",
    "g = MixedEnvDataGenerator(adv_weight=5e-4, e1_weight=1, e2_weight=1, shuffle=True)\n",
    "logs = defaultdict(list)\n",
    "for _ in range(100):\n",
    "    m.fit_generator(\n",
    "        g,\n",
    "        epochs=5,\n",
    "        verbose=0,\n",
    "    )\n",
    "    print('%3d |'%_, end='')\n",
    "    (\n",
    "        loss_all, \n",
    "        e1_loss, e2_loss, adv_loss,\n",
    "        e1_acc, e2_acc, e3_acc\n",
    "    ) = m.evaluate(g.e11[0], [g.e11[1],g.e11[1],g.e11[1]], verbose=0)\n",
    "    logs['e11acc'] += [e1_acc]\n",
    "    logs['e11loss'] += [e1_loss]\n",
    "    print('e1->e11 acc: %.3f'%e1_acc, end=' | ')\n",
    "    (\n",
    "        loss_all, \n",
    "        e1_loss, e2_loss, adv_loss,\n",
    "        e1_acc, e2_acc, e3_acc\n",
    "    ) = m.evaluate(g.e22[0], [g.e22[1],g.e22[1],g.e22[1]], verbose=0)\n",
    "    logs['e22acc'] += [e2_acc]\n",
    "    logs['e22loss'] += [e2_loss]\n",
    "    print('e2->e22 acc: %.3f'%e2_acc, end=' | ')\n",
    "    (\n",
    "        loss_all, \n",
    "        e1_loss, e2_loss, adv_loss,\n",
    "        e1_acc, e2_acc, adv_acc\n",
    "    ) = m.evaluate(g.eaa[0], [g.eaa[1],g.eaa[1],g.eaa[1]], verbose=0)\n",
    "    logs['eaaacc'] += [adv_acc]\n",
    "    logs['eaaloss'] += [adv_loss]\n",
    "    print('e_a->eaa acc: %.3f'%adv_acc, end=' | ')\n",
    "    (\n",
    "        loss_all, \n",
    "        e1_loss, e2_loss, adv_loss,\n",
    "        e1_acc, e2_acc, e3_acc\n",
    "    ) = m.evaluate(g.e3[0], [g.e3[1], g.e3[1], g.e3[1]], verbose=0)\n",
    "    logs['e1_33acc'] += [e1_acc]\n",
    "    logs['e1_33loss'] += [e1_loss]\n",
    "    logs['e2_33acc'] += [e2_acc]\n",
    "    logs['e2_33loss'] += [e2_loss]\n",
    "    print('e1->e3 acc: %.3f'%e1_acc, 'e2->e3 acc: %.3f'%e2_acc)\n",
    "        "
   ]
  },
  {
   "cell_type": "code",
   "execution_count": null,
   "metadata": {},
   "outputs": [],
   "source": [
    "for k in ('e11acc','e22acc','eaaacc','e1_33acc','e2_33acc'):\n",
    "    plt.plot(logs[k[:-3]+'loss'], label=k[:-3]+'loss')\n",
    "plt.legend(loc='center left')\n",
    "plt.grid()\n",
    "plt.yscale('symlog')"
   ]
  },
  {
   "cell_type": "code",
   "execution_count": null,
   "metadata": {},
   "outputs": [],
   "source": [
    "for k in ('e11acc','e22acc','eaaacc','e1_33acc','e2_33acc'):\n",
    "    plt.plot(logs[k], label=k)\n",
    "plt.legend(loc='center left')\n",
    "plt.grid()"
   ]
  },
  {
   "cell_type": "markdown",
   "metadata": {},
   "source": [
    "## TODO IRM"
   ]
  },
  {
   "cell_type": "code",
   "execution_count": 192,
   "metadata": {},
   "outputs": [],
   "source": [
    "if True:\n",
    "        \n",
    "    input_images = Input(shape=(28, 28, 3))\n",
    "    \n",
    "    cnn = Conv2D(32, kernel_size=(3, 3),\n",
    "                 activation='relu')(input_images)\n",
    "    cnn = Conv2D(64, (3, 3), activation='relu')(cnn)\n",
    "    cnn = MaxPooling2D(pool_size=(2, 2))(cnn)\n",
    "    cnn = Dropout(0.25)(cnn)\n",
    "    cnn = Flatten()(cnn)\n",
    "    \n",
    "    spe = Dense(32, activation='relu')(cnn)\n",
    "    spe = Dropout(0.5)(spe)\n",
    "    \n",
    "    # IRM part\n",
    "    \n",
    "    w1 = np.zeros(32)\n",
    "    w1[0] = 1    \n",
    "    irm = Dense(1, activation='sigmoid', name='env', \n",
    "                bias_initializer=keras.initializers.Zeros(),\n",
    "                kernel_initializer=keras.initializers.Constant(value=w1),\n",
    "                use_bias=False,\n",
    "                trainable=False)(spe)\n",
    "    irm_model = Model(\n",
    "        inputs=[input_images],\n",
    "        outputs=[irm]\n",
    "    )\n",
    "    \n",
    "    class IRMLoss(object):\n",
    "        def __init__(self, lambda_=1):\n",
    "            self.lambda_=lambda_\n",
    "            self.dummy_grad_norm = 0\n",
    "            self.loss = 1\n",
    "            self.accuracy = 0\n",
    "            self.penalty = 1\n",
    "            \n",
    "        def update(self, model, x, y):\n",
    "            \n",
    "            self.loss, self.accuracy = model.evaluate(x,y,verbose=0)\n",
    "\n",
    "            output_tensors = model.optimizer.get_gradients(model.total_loss, model.layers[-1].weights[0])\n",
    "            input_tensors = model.inputs + model.sample_weights + model.targets + [K.learning_phase()]\n",
    "            get_gradients = K.function(inputs=input_tensors, outputs=output_tensors)\n",
    "            inputs = [x, np.ones(len(y)), y, 0]\n",
    "            grads = get_gradients(inputs)\n",
    "            self.dummy_grad_norm = np.sqrt(np.sum([_**2 for _ in grads[0]]))\n",
    "            \n",
    "            self.penalty = np.sum([self.loss * _**2 for _ in grads[0]])\n",
    "            \n",
    "        def __call__(self, y_true, y_pred, sample_weight=None):\n",
    "            loss = keras.losses.binary_crossentropy(y_true, y_pred) + self.lambda_ * self.penalty\n",
    "            #if loss > 1:\n",
    "            #    return loss / self.lambda_\n",
    "            return loss\n",
    "    \n",
    "    irm_loss = IRMLoss()\n",
    "    \n",
    "    irm_model.compile(\n",
    "        loss=keras.losses.binary_crossentropy,\n",
    "        optimizer=keras.optimizers.Adadelta(),\n",
    "        metrics=['accuracy']\n",
    "    )    \n",
    "    \n",
    "    if True:\n",
    "        baseline = Dense(1, activation='sigmoid', name='base', \n",
    "                         use_bias=False,\n",
    "                         trainable=True)(spe)\n",
    "        baseline_model = Model(\n",
    "            inputs=input_images,\n",
    "            outputs=baseline\n",
    "        )\n",
    "        baseline_model.compile(\n",
    "            loss=irm_loss,\n",
    "            optimizer=keras.optimizers.Adadelta(),\n",
    "            metrics=['accuracy']\n",
    "        )\n"
   ]
  },
  {
   "cell_type": "code",
   "execution_count": 189,
   "metadata": {},
   "outputs": [
    {
     "data": {
      "text/plain": [
       "1"
      ]
     },
     "execution_count": 189,
     "metadata": {},
     "output_type": "execute_result"
    }
   ],
   "source": [
    "irm_loss.lambda_*irm_loss.penalty"
   ]
  },
  {
   "cell_type": "code",
   "execution_count": 196,
   "metadata": {},
   "outputs": [
    {
     "name": "stdout",
     "output_type": "stream",
     "text": [
      "Step size: 1000\n",
      "--------------------------------------------------------------------------------\n",
      "Epoch 5\n",
      "--------------------------------------------------------------------------------\n",
      "lam:      0 | pen: 0.185 loss: 1.309 acc: 0.899 | pen: 0.116 loss: 1.482 acc: 0.799 | e3loss: 2.245 e3acc: 0.108\n",
      "lam:      0 | pen: 0.060 loss: 1.350 acc: 0.897 | pen: 0.130 loss: 1.459 acc: 0.799 | e3loss: 2.261 e3acc: 0.113\n",
      "lam:      0 | pen: 0.117 loss: 1.342 acc: 0.896 | pen: 0.187 loss: 1.471 acc: 0.799 | e3loss: 2.205 e3acc: 0.100\n",
      "lam:      0 "
     ]
    },
    {
     "ename": "KeyboardInterrupt",
     "evalue": "",
     "output_type": "error",
     "traceback": [
      "\u001b[0;31m---------------------------------------------------------------------------\u001b[0m",
      "\u001b[0;31mKeyboardInterrupt\u001b[0m                         Traceback (most recent call last)",
      "\u001b[0;32m<ipython-input-196-368741e2683e>\u001b[0m in \u001b[0;36m<module>\u001b[0;34m\u001b[0m\n\u001b[1;32m     17\u001b[0m             \u001b[0my\u001b[0m \u001b[0;34m=\u001b[0m \u001b[0menv\u001b[0m\u001b[0;34m[\u001b[0m\u001b[0;36m1\u001b[0m\u001b[0;34m]\u001b[0m\u001b[0;34m[\u001b[0m\u001b[0mbatch\u001b[0m\u001b[0;34m*\u001b[0m\u001b[0mstep_size\u001b[0m\u001b[0;34m:\u001b[0m\u001b[0;34m(\u001b[0m\u001b[0mbatch\u001b[0m\u001b[0;34m+\u001b[0m\u001b[0;36m1\u001b[0m\u001b[0;34m)\u001b[0m\u001b[0;34m*\u001b[0m\u001b[0mstep_size\u001b[0m\u001b[0;34m]\u001b[0m\u001b[0;34m\u001b[0m\u001b[0;34m\u001b[0m\u001b[0m\n\u001b[1;32m     18\u001b[0m \u001b[0;34m\u001b[0m\u001b[0m\n\u001b[0;32m---> 19\u001b[0;31m             \u001b[0mirm_loss\u001b[0m\u001b[0;34m.\u001b[0m\u001b[0mupdate\u001b[0m\u001b[0;34m(\u001b[0m\u001b[0mirm_model\u001b[0m\u001b[0;34m,\u001b[0m \u001b[0mx\u001b[0m\u001b[0;34m,\u001b[0m \u001b[0my\u001b[0m\u001b[0;34m)\u001b[0m\u001b[0;34m\u001b[0m\u001b[0;34m\u001b[0m\u001b[0m\n\u001b[0m\u001b[1;32m     20\u001b[0m             \u001b[0;32mif\u001b[0m \u001b[0;32mnot\u001b[0m \u001b[0mbatch\u001b[0m \u001b[0;34m%\u001b[0m \u001b[0mn_pr\u001b[0m\u001b[0;34m:\u001b[0m\u001b[0;34m\u001b[0m\u001b[0;34m\u001b[0m\u001b[0m\n\u001b[1;32m     21\u001b[0m                 \u001b[0mprint\u001b[0m\u001b[0;34m(\u001b[0m\u001b[0;34m\"| pen:\"\u001b[0m\u001b[0;34m,\u001b[0m \u001b[0;34m'%.3f'\u001b[0m\u001b[0;34m%\u001b[0m\u001b[0mirm_loss\u001b[0m\u001b[0;34m.\u001b[0m\u001b[0mpenalty\u001b[0m\u001b[0;34m,\u001b[0m \u001b[0mend\u001b[0m\u001b[0;34m=\u001b[0m\u001b[0;34m' '\u001b[0m\u001b[0;34m)\u001b[0m\u001b[0;34m\u001b[0m\u001b[0;34m\u001b[0m\u001b[0m\n",
      "\u001b[0;32m<ipython-input-192-6f0c8d6ea272>\u001b[0m in \u001b[0;36mupdate\u001b[0;34m(self, model, x, y)\u001b[0m\n\u001b[1;32m     39\u001b[0m             \u001b[0mself\u001b[0m\u001b[0;34m.\u001b[0m\u001b[0mloss\u001b[0m\u001b[0;34m,\u001b[0m \u001b[0mself\u001b[0m\u001b[0;34m.\u001b[0m\u001b[0maccuracy\u001b[0m \u001b[0;34m=\u001b[0m \u001b[0mmodel\u001b[0m\u001b[0;34m.\u001b[0m\u001b[0mevaluate\u001b[0m\u001b[0;34m(\u001b[0m\u001b[0mx\u001b[0m\u001b[0;34m,\u001b[0m\u001b[0my\u001b[0m\u001b[0;34m,\u001b[0m\u001b[0mverbose\u001b[0m\u001b[0;34m=\u001b[0m\u001b[0;36m0\u001b[0m\u001b[0;34m)\u001b[0m\u001b[0;34m\u001b[0m\u001b[0;34m\u001b[0m\u001b[0m\n\u001b[1;32m     40\u001b[0m \u001b[0;34m\u001b[0m\u001b[0m\n\u001b[0;32m---> 41\u001b[0;31m             \u001b[0moutput_tensors\u001b[0m \u001b[0;34m=\u001b[0m \u001b[0mmodel\u001b[0m\u001b[0;34m.\u001b[0m\u001b[0moptimizer\u001b[0m\u001b[0;34m.\u001b[0m\u001b[0mget_gradients\u001b[0m\u001b[0;34m(\u001b[0m\u001b[0mmodel\u001b[0m\u001b[0;34m.\u001b[0m\u001b[0mtotal_loss\u001b[0m\u001b[0;34m,\u001b[0m \u001b[0mmodel\u001b[0m\u001b[0;34m.\u001b[0m\u001b[0mlayers\u001b[0m\u001b[0;34m[\u001b[0m\u001b[0;34m-\u001b[0m\u001b[0;36m1\u001b[0m\u001b[0;34m]\u001b[0m\u001b[0;34m.\u001b[0m\u001b[0mweights\u001b[0m\u001b[0;34m[\u001b[0m\u001b[0;36m0\u001b[0m\u001b[0;34m]\u001b[0m\u001b[0;34m)\u001b[0m\u001b[0;34m\u001b[0m\u001b[0;34m\u001b[0m\u001b[0m\n\u001b[0m\u001b[1;32m     42\u001b[0m             \u001b[0minput_tensors\u001b[0m \u001b[0;34m=\u001b[0m \u001b[0mmodel\u001b[0m\u001b[0;34m.\u001b[0m\u001b[0minputs\u001b[0m \u001b[0;34m+\u001b[0m \u001b[0mmodel\u001b[0m\u001b[0;34m.\u001b[0m\u001b[0msample_weights\u001b[0m \u001b[0;34m+\u001b[0m \u001b[0mmodel\u001b[0m\u001b[0;34m.\u001b[0m\u001b[0mtargets\u001b[0m \u001b[0;34m+\u001b[0m \u001b[0;34m[\u001b[0m\u001b[0mK\u001b[0m\u001b[0;34m.\u001b[0m\u001b[0mlearning_phase\u001b[0m\u001b[0;34m(\u001b[0m\u001b[0;34m)\u001b[0m\u001b[0;34m]\u001b[0m\u001b[0;34m\u001b[0m\u001b[0;34m\u001b[0m\u001b[0m\n\u001b[1;32m     43\u001b[0m             \u001b[0mget_gradients\u001b[0m \u001b[0;34m=\u001b[0m \u001b[0mK\u001b[0m\u001b[0;34m.\u001b[0m\u001b[0mfunction\u001b[0m\u001b[0;34m(\u001b[0m\u001b[0minputs\u001b[0m\u001b[0;34m=\u001b[0m\u001b[0minput_tensors\u001b[0m\u001b[0;34m,\u001b[0m \u001b[0moutputs\u001b[0m\u001b[0;34m=\u001b[0m\u001b[0moutput_tensors\u001b[0m\u001b[0;34m)\u001b[0m\u001b[0;34m\u001b[0m\u001b[0;34m\u001b[0m\u001b[0m\n",
      "\u001b[0;32m~/miniconda/lib/python3.7/site-packages/keras/optimizers.py\u001b[0m in \u001b[0;36mget_gradients\u001b[0;34m(self, loss, params)\u001b[0m\n\u001b[1;32m     89\u001b[0m \u001b[0;34m\u001b[0m\u001b[0m\n\u001b[1;32m     90\u001b[0m     \u001b[0;32mdef\u001b[0m \u001b[0mget_gradients\u001b[0m\u001b[0;34m(\u001b[0m\u001b[0mself\u001b[0m\u001b[0;34m,\u001b[0m \u001b[0mloss\u001b[0m\u001b[0;34m,\u001b[0m \u001b[0mparams\u001b[0m\u001b[0;34m)\u001b[0m\u001b[0;34m:\u001b[0m\u001b[0;34m\u001b[0m\u001b[0;34m\u001b[0m\u001b[0m\n\u001b[0;32m---> 91\u001b[0;31m         \u001b[0mgrads\u001b[0m \u001b[0;34m=\u001b[0m \u001b[0mK\u001b[0m\u001b[0;34m.\u001b[0m\u001b[0mgradients\u001b[0m\u001b[0;34m(\u001b[0m\u001b[0mloss\u001b[0m\u001b[0;34m,\u001b[0m \u001b[0mparams\u001b[0m\u001b[0;34m)\u001b[0m\u001b[0;34m\u001b[0m\u001b[0;34m\u001b[0m\u001b[0m\n\u001b[0m\u001b[1;32m     92\u001b[0m         \u001b[0;32mif\u001b[0m \u001b[0many\u001b[0m\u001b[0;34m(\u001b[0m\u001b[0mx\u001b[0m \u001b[0;32mis\u001b[0m \u001b[0;32mNone\u001b[0m \u001b[0;32mfor\u001b[0m \u001b[0mx\u001b[0m \u001b[0;32min\u001b[0m \u001b[0mgrads\u001b[0m\u001b[0;34m)\u001b[0m\u001b[0;34m:\u001b[0m\u001b[0;34m\u001b[0m\u001b[0;34m\u001b[0m\u001b[0m\n\u001b[1;32m     93\u001b[0m             raise ValueError('An operation has `None` for gradient. '\n",
      "\u001b[0;32m~/miniconda/lib/python3.7/site-packages/keras/backend/tensorflow_backend.py\u001b[0m in \u001b[0;36msymbolic_fn_wrapper\u001b[0;34m(*args, **kwargs)\u001b[0m\n\u001b[1;32m     73\u001b[0m         \u001b[0;32mif\u001b[0m \u001b[0m_SYMBOLIC_SCOPE\u001b[0m\u001b[0;34m.\u001b[0m\u001b[0mvalue\u001b[0m\u001b[0;34m:\u001b[0m\u001b[0;34m\u001b[0m\u001b[0;34m\u001b[0m\u001b[0m\n\u001b[1;32m     74\u001b[0m             \u001b[0;32mwith\u001b[0m \u001b[0mget_graph\u001b[0m\u001b[0;34m(\u001b[0m\u001b[0;34m)\u001b[0m\u001b[0;34m.\u001b[0m\u001b[0mas_default\u001b[0m\u001b[0;34m(\u001b[0m\u001b[0;34m)\u001b[0m\u001b[0;34m:\u001b[0m\u001b[0;34m\u001b[0m\u001b[0;34m\u001b[0m\u001b[0m\n\u001b[0;32m---> 75\u001b[0;31m                 \u001b[0;32mreturn\u001b[0m \u001b[0mfunc\u001b[0m\u001b[0;34m(\u001b[0m\u001b[0;34m*\u001b[0m\u001b[0margs\u001b[0m\u001b[0;34m,\u001b[0m \u001b[0;34m**\u001b[0m\u001b[0mkwargs\u001b[0m\u001b[0;34m)\u001b[0m\u001b[0;34m\u001b[0m\u001b[0;34m\u001b[0m\u001b[0m\n\u001b[0m\u001b[1;32m     76\u001b[0m         \u001b[0;32melse\u001b[0m\u001b[0;34m:\u001b[0m\u001b[0;34m\u001b[0m\u001b[0;34m\u001b[0m\u001b[0m\n\u001b[1;32m     77\u001b[0m             \u001b[0;32mreturn\u001b[0m \u001b[0mfunc\u001b[0m\u001b[0;34m(\u001b[0m\u001b[0;34m*\u001b[0m\u001b[0margs\u001b[0m\u001b[0;34m,\u001b[0m \u001b[0;34m**\u001b[0m\u001b[0mkwargs\u001b[0m\u001b[0;34m)\u001b[0m\u001b[0;34m\u001b[0m\u001b[0;34m\u001b[0m\u001b[0m\n",
      "\u001b[0;32m~/miniconda/lib/python3.7/site-packages/keras/backend/tensorflow_backend.py\u001b[0m in \u001b[0;36mgradients\u001b[0;34m(loss, variables)\u001b[0m\n\u001b[1;32m   3023\u001b[0m     \u001b[0;32mif\u001b[0m \u001b[0m_is_tf_1\u001b[0m\u001b[0;34m(\u001b[0m\u001b[0;34m)\u001b[0m\u001b[0;34m:\u001b[0m\u001b[0;34m\u001b[0m\u001b[0;34m\u001b[0m\u001b[0m\n\u001b[1;32m   3024\u001b[0m         \u001b[0;32mreturn\u001b[0m \u001b[0mtf\u001b[0m\u001b[0;34m.\u001b[0m\u001b[0mgradients\u001b[0m\u001b[0;34m(\u001b[0m\u001b[0mloss\u001b[0m\u001b[0;34m,\u001b[0m \u001b[0mvariables\u001b[0m\u001b[0;34m,\u001b[0m \u001b[0mcolocate_gradients_with_ops\u001b[0m\u001b[0;34m=\u001b[0m\u001b[0;32mTrue\u001b[0m\u001b[0;34m)\u001b[0m\u001b[0;34m\u001b[0m\u001b[0;34m\u001b[0m\u001b[0m\n\u001b[0;32m-> 3025\u001b[0;31m     \u001b[0;32mreturn\u001b[0m \u001b[0mtf\u001b[0m\u001b[0;34m.\u001b[0m\u001b[0mgradients\u001b[0m\u001b[0;34m(\u001b[0m\u001b[0mloss\u001b[0m\u001b[0;34m,\u001b[0m \u001b[0mvariables\u001b[0m\u001b[0;34m)\u001b[0m\u001b[0;34m\u001b[0m\u001b[0;34m\u001b[0m\u001b[0m\n\u001b[0m\u001b[1;32m   3026\u001b[0m \u001b[0;34m\u001b[0m\u001b[0m\n\u001b[1;32m   3027\u001b[0m \u001b[0;34m\u001b[0m\u001b[0m\n",
      "\u001b[0;32m~/miniconda/lib/python3.7/site-packages/tensorflow_core/python/ops/gradients_impl.py\u001b[0m in \u001b[0;36mgradients_v2\u001b[0;34m(ys, xs, grad_ys, name, gate_gradients, aggregation_method, stop_gradients, unconnected_gradients)\u001b[0m\n\u001b[1;32m    272\u001b[0m         \u001b[0mys\u001b[0m\u001b[0;34m,\u001b[0m \u001b[0mxs\u001b[0m\u001b[0;34m,\u001b[0m \u001b[0mgrad_ys\u001b[0m\u001b[0;34m,\u001b[0m \u001b[0mname\u001b[0m\u001b[0;34m,\u001b[0m \u001b[0;32mTrue\u001b[0m\u001b[0;34m,\u001b[0m \u001b[0mgate_gradients\u001b[0m\u001b[0;34m,\u001b[0m\u001b[0;34m\u001b[0m\u001b[0;34m\u001b[0m\u001b[0m\n\u001b[1;32m    273\u001b[0m         \u001b[0maggregation_method\u001b[0m\u001b[0;34m,\u001b[0m \u001b[0mstop_gradients\u001b[0m\u001b[0;34m,\u001b[0m\u001b[0;34m\u001b[0m\u001b[0;34m\u001b[0m\u001b[0m\n\u001b[0;32m--> 274\u001b[0;31m         unconnected_gradients)\n\u001b[0m\u001b[1;32m    275\u001b[0m   \u001b[0;31m# pylint: enable=protected-access\u001b[0m\u001b[0;34m\u001b[0m\u001b[0;34m\u001b[0m\u001b[0;34m\u001b[0m\u001b[0m\n\u001b[1;32m    276\u001b[0m \u001b[0;34m\u001b[0m\u001b[0m\n",
      "\u001b[0;32m~/miniconda/lib/python3.7/site-packages/tensorflow_core/python/ops/gradients_util.py\u001b[0m in \u001b[0;36m_GradientsHelper\u001b[0;34m(ys, xs, grad_ys, name, colocate_gradients_with_ops, gate_gradients, aggregation_method, stop_gradients, unconnected_gradients, src_graph)\u001b[0m\n\u001b[1;32m    549\u001b[0m     \u001b[0mstop_gradient_ops\u001b[0m \u001b[0;34m=\u001b[0m \u001b[0;34m[\u001b[0m\u001b[0mt\u001b[0m\u001b[0;34m.\u001b[0m\u001b[0mop\u001b[0m \u001b[0;32mfor\u001b[0m \u001b[0mt\u001b[0m \u001b[0;32min\u001b[0m \u001b[0mstop_gradients\u001b[0m\u001b[0;34m]\u001b[0m\u001b[0;34m\u001b[0m\u001b[0;34m\u001b[0m\u001b[0m\n\u001b[1;32m    550\u001b[0m     reachable_to_ops, pending_count, loop_state = _PendingCount(\n\u001b[0;32m--> 551\u001b[0;31m         to_ops, from_ops, colocate_gradients_with_ops, func_graphs, xs_set)\n\u001b[0m\u001b[1;32m    552\u001b[0m \u001b[0;34m\u001b[0m\u001b[0m\n\u001b[1;32m    553\u001b[0m     \u001b[0;31m# Iterate over the collected ops.\u001b[0m\u001b[0;34m\u001b[0m\u001b[0;34m\u001b[0m\u001b[0;34m\u001b[0m\u001b[0m\n",
      "\u001b[0;32m~/miniconda/lib/python3.7/site-packages/tensorflow_core/python/ops/gradients_util.py\u001b[0m in \u001b[0;36m_PendingCount\u001b[0;34m(to_ops, from_ops, colocate_gradients_with_ops, func_graphs, xs_set)\u001b[0m\n\u001b[1;32m     96\u001b[0m   \u001b[0;31m# Mark reachable ops from from_ops.\u001b[0m\u001b[0;34m\u001b[0m\u001b[0;34m\u001b[0m\u001b[0;34m\u001b[0m\u001b[0m\n\u001b[1;32m     97\u001b[0m   \u001b[0mreached_ops\u001b[0m \u001b[0;34m=\u001b[0m \u001b[0mset\u001b[0m\u001b[0;34m(\u001b[0m\u001b[0;34m)\u001b[0m\u001b[0;34m\u001b[0m\u001b[0;34m\u001b[0m\u001b[0m\n\u001b[0;32m---> 98\u001b[0;31m   \u001b[0m_MarkReachedOps\u001b[0m\u001b[0;34m(\u001b[0m\u001b[0mfrom_ops\u001b[0m\u001b[0;34m,\u001b[0m \u001b[0mreached_ops\u001b[0m\u001b[0;34m,\u001b[0m \u001b[0mfunc_graphs\u001b[0m\u001b[0;34m)\u001b[0m\u001b[0;34m\u001b[0m\u001b[0;34m\u001b[0m\u001b[0m\n\u001b[0m\u001b[1;32m     99\u001b[0m   \u001b[0;31m# X in reached_ops iff X is reachable from from_ops by a path of zero or more\u001b[0m\u001b[0;34m\u001b[0m\u001b[0;34m\u001b[0m\u001b[0;34m\u001b[0m\u001b[0m\n\u001b[1;32m    100\u001b[0m   \u001b[0;31m# backpropagatable tensors.\u001b[0m\u001b[0;34m\u001b[0m\u001b[0;34m\u001b[0m\u001b[0;34m\u001b[0m\u001b[0m\n",
      "\u001b[0;32m~/miniconda/lib/python3.7/site-packages/tensorflow_core/python/ops/gradients_util.py\u001b[0m in \u001b[0;36m_MarkReachedOps\u001b[0;34m(from_ops, reached_ops, func_graphs)\u001b[0m\n\u001b[1;32m     67\u001b[0m       \u001b[0;32mfor\u001b[0m \u001b[0moutput\u001b[0m \u001b[0;32min\u001b[0m \u001b[0mop\u001b[0m\u001b[0;34m.\u001b[0m\u001b[0moutputs\u001b[0m\u001b[0;34m:\u001b[0m\u001b[0;34m\u001b[0m\u001b[0;34m\u001b[0m\u001b[0m\n\u001b[1;32m     68\u001b[0m         \u001b[0;32mif\u001b[0m \u001b[0m_IsBackpropagatable\u001b[0m\u001b[0;34m(\u001b[0m\u001b[0moutput\u001b[0m\u001b[0;34m)\u001b[0m\u001b[0;34m:\u001b[0m\u001b[0;34m\u001b[0m\u001b[0;34m\u001b[0m\u001b[0m\n\u001b[0;32m---> 69\u001b[0;31m           \u001b[0mqueue\u001b[0m\u001b[0;34m.\u001b[0m\u001b[0mextend\u001b[0m\u001b[0;34m(\u001b[0m\u001b[0m_Consumers\u001b[0m\u001b[0;34m(\u001b[0m\u001b[0moutput\u001b[0m\u001b[0;34m,\u001b[0m \u001b[0mfunc_graphs\u001b[0m\u001b[0;34m)\u001b[0m\u001b[0;34m)\u001b[0m\u001b[0;34m\u001b[0m\u001b[0;34m\u001b[0m\u001b[0m\n\u001b[0m\u001b[1;32m     70\u001b[0m \u001b[0;34m\u001b[0m\u001b[0m\n\u001b[1;32m     71\u001b[0m \u001b[0;34m\u001b[0m\u001b[0m\n",
      "\u001b[0;32m~/miniconda/lib/python3.7/site-packages/tensorflow_core/python/ops/gradients_util.py\u001b[0m in \u001b[0;36m_Consumers\u001b[0;34m(t, func_graphs)\u001b[0m\n\u001b[1;32m    471\u001b[0m   \u001b[0mconsumers\u001b[0m \u001b[0;34m=\u001b[0m \u001b[0mt\u001b[0m\u001b[0;34m.\u001b[0m\u001b[0mconsumers\u001b[0m\u001b[0;34m(\u001b[0m\u001b[0;34m)\u001b[0m\u001b[0;34m\u001b[0m\u001b[0;34m\u001b[0m\u001b[0m\n\u001b[1;32m    472\u001b[0m   \u001b[0;32mfor\u001b[0m \u001b[0mfunc\u001b[0m \u001b[0;32min\u001b[0m \u001b[0mfunc_graphs\u001b[0m\u001b[0;34m:\u001b[0m\u001b[0;34m\u001b[0m\u001b[0;34m\u001b[0m\u001b[0m\n\u001b[0;32m--> 473\u001b[0;31m     \u001b[0;32mfor\u001b[0m \u001b[0minput_t\u001b[0m\u001b[0;34m,\u001b[0m \u001b[0mplaceholder\u001b[0m \u001b[0;32min\u001b[0m \u001b[0m_Captures\u001b[0m\u001b[0;34m(\u001b[0m\u001b[0mfunc\u001b[0m\u001b[0;34m)\u001b[0m\u001b[0;34m:\u001b[0m\u001b[0;34m\u001b[0m\u001b[0;34m\u001b[0m\u001b[0m\n\u001b[0m\u001b[1;32m    474\u001b[0m       \u001b[0;32mif\u001b[0m \u001b[0minput_t\u001b[0m \u001b[0;32mis\u001b[0m \u001b[0mt\u001b[0m\u001b[0;34m:\u001b[0m\u001b[0;34m\u001b[0m\u001b[0;34m\u001b[0m\u001b[0m\n\u001b[1;32m    475\u001b[0m         \u001b[0mconsumers\u001b[0m\u001b[0;34m.\u001b[0m\u001b[0mextend\u001b[0m\u001b[0;34m(\u001b[0m\u001b[0m_Consumers\u001b[0m\u001b[0;34m(\u001b[0m\u001b[0mplaceholder\u001b[0m\u001b[0;34m,\u001b[0m \u001b[0mfunc_graphs\u001b[0m\u001b[0;34m)\u001b[0m\u001b[0;34m)\u001b[0m\u001b[0;34m\u001b[0m\u001b[0;34m\u001b[0m\u001b[0m\n",
      "\u001b[0;31mKeyboardInterrupt\u001b[0m: "
     ]
    }
   ],
   "source": [
    "step_size = 1000#int(len(e1[1])/10)\n",
    "print(\"Step size:\", step_size)\n",
    "\n",
    "n_pr = 1\n",
    "\n",
    "for epoch in range(5,15):\n",
    "    \n",
    "    print('-'*80)\n",
    "    print('Epoch', epoch)\n",
    "    print('-'*80)\n",
    "    \n",
    "    for batch in range(int(len(e1[1])/step_size)-1):\n",
    "        irm_loss.lambda_ = 0#epoch*10000\n",
    "        if not batch % n_pr: print(\"lam: %6d\" % irm_loss.lambda_, end=' ')\n",
    "        for env in (e1, e2):\n",
    "            x = env[0][batch*step_size:(batch+1)*step_size,:,:,:]\n",
    "            y = env[1][batch*step_size:(batch+1)*step_size]\n",
    "\n",
    "            irm_loss.update(irm_model, x, y)\n",
    "            if not batch % n_pr:\n",
    "                print(\"| pen:\", '%.3f'%irm_loss.penalty, end=' ')\n",
    "                loss, acc = baseline_model.evaluate(env[0], env[1], verbose=0)\n",
    "                print(\"loss:\", '%.3f'%loss, \"acc:\",'%.3f'%acc, end=' ')\n",
    "\n",
    "            baseline_model.fit(x=x, y=y, batch_size=step_size, epochs=1, shuffle=True, verbose=0)\n",
    "\n",
    "        if not batch % n_pr:\n",
    "            loss, acc = baseline_model.evaluate(e3[0],e3[1],verbose=0)\n",
    "            print(\"| e3loss:\", '%.3f'%loss, \"e3acc:\", '%.3f'%acc)\n",
    "\n",
    "for env in (e1, e2, e3):\n",
    "    loss, acc = baseline_model.evaluate(env[0], env[1], verbose=0)\n",
    "    print(\"| e3loss:\", '%.3f'%loss, \"e3acc:\", '%.3f'%acc)"
   ]
  }
 ],
 "metadata": {
  "kernelspec": {
   "display_name": "Python 3",
   "language": "python",
   "name": "python3"
  },
  "language_info": {
   "codemirror_mode": {
    "name": "ipython",
    "version": 3
   },
   "file_extension": ".py",
   "mimetype": "text/x-python",
   "name": "python",
   "nbconvert_exporter": "python",
   "pygments_lexer": "ipython3",
   "version": "3.7.6"
  }
 },
 "nbformat": 4,
 "nbformat_minor": 4
}
